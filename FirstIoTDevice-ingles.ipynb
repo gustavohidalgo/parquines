{
 "cells": [
  {
   "cell_type": "markdown",
   "metadata": {},
   "source": [
    "<img src=\"lalogonavy.png\">"
   ]
  },
  {
   "cell_type": "markdown",
   "metadata": {},
   "source": [
    "<h1>\n",
    "<p style=\"text-align: center;\">Configuring Your First IoT Device</p>\n",
    "</h1>"
   ]
  },
  {
   "cell_type": "markdown",
   "metadata": {},
   "source": [
    "<img src=\"first-iot-device.png\">"
   ]
  },
  {
   "cell_type": "markdown",
   "metadata": {},
   "source": [
    "## Creating Things, Certificates, and Policies in the AWS Console\n",
    "\n",
    "1. Go to the IoT Section of the AWS console and create am IoT Thing\n",
    "2. Create a new type to give this thing\n",
    "3. Give the thing a group and potentially an attribute or two\n",
    "4. Create a certificate for the thing and make sure to download all the certificates (and the first AWS certificate!)\n",
    "5. Create a policy for the thing and attach it to the certificate"
   ]
  },
  {
   "cell_type": "markdown",
   "metadata": {
    "scrolled": true
   },
   "source": [
    "## Subscribe to a Topic \n",
    "\n",
    "1. In the `Test` section of the IoT console, subscribe to the topic `penguinfeed/1`\n",
    "2. Publish a basic message to that same topic in the console"
   ]
  },
  {
   "cell_type": "markdown",
   "metadata": {
    "scrolled": true
   },
   "source": [
    "## Send data to the Topic using your \"IoT Device\""
   ]
  },
  {
   "cell_type": "markdown",
   "metadata": {},
   "source": [
    "### Install the AWS IoT SDK for Python (this is not boto3!)"
   ]
  },
  {
   "cell_type": "code",
   "execution_count": null,
   "metadata": {},
   "outputs": [],
   "source": [
    "!pip install AWSIoTPythonSDK"
   ]
  },
  {
   "cell_type": "markdown",
   "metadata": {},
   "source": [
    "### Check that the SSL version is 1.0.1 or greater"
   ]
  },
  {
   "cell_type": "code",
   "execution_count": null,
   "metadata": {},
   "outputs": [],
   "source": [
    "import ssl\n",
    "ssl.OPENSSL_VERSION"
   ]
  },
  {
   "cell_type": "markdown",
   "metadata": {},
   "source": [
    "### Import some dependencies we'll use to send data to the Topic from the \"IoT Device\" of this EC2 Instance"
   ]
  },
  {
   "cell_type": "code",
   "execution_count": null,
   "metadata": {
    "scrolled": true
   },
   "outputs": [],
   "source": [
    "import csv\n",
    "import random\n",
    "import json\n",
    "import time\n",
    "\n",
    "from AWSIoTPythonSDK.MQTTLib import AWSIoTMQTTClient\n",
    "from time import sleep\n",
    "from datetime import date, datetime"
   ]
  },
  {
   "cell_type": "markdown",
   "metadata": {},
   "source": [
    "### Set some initial variables"
   ]
  },
  {
   "cell_type": "code",
   "execution_count": null,
   "metadata": {
    "scrolled": true
   },
   "outputs": [],
   "source": [
    "CLIENT_NAME = \"penguin-sensor\"\n",
    "TOPIC = \"penguinfeed/1\"\n",
    "\n",
    "# Broker path is under AWS IoT > Settings (at the bottom left)\n",
    "# Uncomment the next line after setting it\n",
    "# BROKER_PATH = \"a2hyr29arhu1ac-ats.iot.us-east-1.amazonaws.com\"\n",
    "\n",
    "# RSA 2048 bit key: Amazon Root CA 1 found here:\n",
    "# https://docs.aws.amazon.com/iot/latest/developerguide/managing-device-certs.html\n",
    "ROOT_CA_PATH = './AmazonRootCA1.pem'\n",
    "\n",
    "# These two keys are downloaded from the AWS IoT Console\n",
    "# Upload them inside the Jupyter notebook and update/uncomment them\n",
    "# PRIVATE_KEY_PATH = './14e764a6a2-private.pem.key'\n",
    "# CERTIFICATE_PATH = './14e764a6a2-certificate.pem.crt'"
   ]
  },
  {
   "cell_type": "markdown",
   "metadata": {},
   "source": [
    "### Create and Configure the IoT Client"
   ]
  },
  {
   "cell_type": "code",
   "execution_count": null,
   "metadata": {
    "scrolled": true
   },
   "outputs": [],
   "source": [
    "IoTclient = AWSIoTMQTTClient(CLIENT_NAME)\n",
    "IoTclient.configureEndpoint(BROKER_PATH, 8883)\n",
    "IoTclient.configureCredentials(\n",
    "    ROOT_CA_PATH, \n",
    "    PRIVATE_KEY_PATH, \n",
    "    CERTIFICATE_PATH\n",
    ")\n",
    "\n",
    "# Allow the device to queue infinite messages\n",
    "IoTclient.configureOfflinePublishQueueing(-1)\n",
    "\n",
    "# Number of messages to send after a connection returns\n",
    "IoTclient.configureDrainingFrequency(2)  # 2 requests/second\n",
    "\n",
    "# How long to wait for a [dis]connection to complete (in seconds)\n",
    "IoTclient.configureConnectDisconnectTimeout(10)\n",
    "\n",
    "# How long to wait for publish/[un]subscribe (in seconds)\n",
    "IoTclient.configureMQTTOperationTimeout(5) \n",
    "\n",
    "\n",
    "IoTclient.connect()\n",
    "IoTclient.publish(TOPIC, \"connected\", 0)"
   ]
  },
  {
   "cell_type": "markdown",
   "metadata": {},
   "source": [
    "### Create and Send Payloads to the IoT Topic"
   ]
  },
  {
   "cell_type": "code",
   "execution_count": null,
   "metadata": {
    "scrolled": true
   },
   "outputs": [],
   "source": [
    "def create_payload():\n",
    "    penguins = [\n",
    "        \"Adelie\", \"African\", \"Chinstrap\", \"Emperor\", \n",
    "        \"Erect-crested\", \"Fiordland\", \"Galapagos\", \n",
    "        \"Gentoo\", \"Humboldt\", \"King\", \"Little\", \n",
    "        \"Macaroni\", \"Magellanic\", \"Rockhopper\", \n",
    "        \"Royal\", \"Snares\", \"Yellow-eyed\"\n",
    "    ]\n",
    "    payload = json.dumps({\n",
    "        \"penguin_type\": random.choice(penguins),\n",
    "        \"latitude\": random.uniform(-90, 90),\n",
    "        \"longitude\": random.uniform(-180,180)\n",
    "    })\n",
    "    return payload\n",
    "\n",
    "while True:\n",
    "    IoTclient.publish(TOPIC, create_payload(), 0)"
   ]
  },
  {
   "cell_type": "markdown",
   "metadata": {},
   "source": [
    "### All Done! Awesome Job!"
   ]
  }
 ],
 "metadata": {
  "kernelspec": {
   "display_name": "Python 3",
   "language": "python",
   "name": "python3"
  },
  "language_info": {
   "codemirror_mode": {
    "name": "ipython",
    "version": 3
   },
   "file_extension": ".py",
   "mimetype": "text/x-python",
   "name": "python",
   "nbconvert_exporter": "python",
   "pygments_lexer": "ipython3",
   "version": "3.7.1"
  }
 },
 "nbformat": 4,
 "nbformat_minor": 2
}
